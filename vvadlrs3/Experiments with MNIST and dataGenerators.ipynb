version https://git-lfs.github.com/spec/v1
oid sha256:c796ba4f3cedfd71363d2981e0502a0ce4ef35c60646408d93bc35205e7b0878
size 9231
