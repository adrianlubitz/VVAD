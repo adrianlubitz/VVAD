version https://git-lfs.github.com/spec/v1
oid sha256:a58cf2b5fec8ccfdfcd85c6fb5fd1bc330fe5bdc3a062fce02e243dc1d9d3e9d
size 22330
