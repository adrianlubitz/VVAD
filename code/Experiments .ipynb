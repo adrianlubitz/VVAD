version https://git-lfs.github.com/spec/v1
oid sha256:5a1e988a83862a10dd7580ddd52d93e83957eb0cb9afebeb1cbd43b2b465141f
size 92167
