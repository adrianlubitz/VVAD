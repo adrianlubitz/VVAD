version https://git-lfs.github.com/spec/v1
oid sha256:ebf0bf5d6780ce27b18cb0b3b3f8f6fa331d9657f07827285cc02df00e556f48
size 3325
